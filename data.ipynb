{
 "cells": [
  {
   "cell_type": "code",
   "execution_count": null,
   "metadata": {},
   "outputs": [],
   "source": [
    "import numpy as np\n",
    "from numpy import NaN as npNaN\n",
    "import pandas as pd\n",
    "import yfinance as yf\n",
    "import torch"
   ]
  },
  {
   "cell_type": "code",
   "execution_count": 23,
   "metadata": {},
   "outputs": [],
   "source": [
    "import pandas_ta as ta # Technical Indicators"
   ]
  },
  {
   "cell_type": "code",
   "execution_count": 24,
   "metadata": {},
   "outputs": [],
   "source": [
    "from sklearn.linear_model import LogisticRegression\n",
    "from sklearn import metrics\n",
    "from sklearn.model_selection import cross_val_score"
   ]
  },
  {
   "cell_type": "code",
   "execution_count": null,
   "metadata": {},
   "outputs": [],
   "source": [
    "# if torch.backends.mps.is_available():\n",
    "#     torch.device(\"mps\")\n",
    "# else:\n",
    "#     print (\"MPS device not found.\")"
   ]
  },
  {
   "cell_type": "markdown",
   "metadata": {},
   "source": [
    "return dataframe of given ticker symbol with relevant indicators"
   ]
  },
  {
   "cell_type": "code",
   "execution_count": 25,
   "metadata": {},
   "outputs": [],
   "source": [
    "def get_indicator_data(ticker):\n",
    "    df = yf.download(ticker,'2005-01-01', '2024-10-31', interval='5d') # downloading data on 5 day time-frame\n",
    "\n",
    "    # Adding our indicators to the data frame\n",
    "    # Tells you how overbought or oversold the stock is\n",
    "    df['RSI'] = ta.rsi(df['Close'], length=18) \n",
    "\n",
    "    # Estimated Moving Average on 18 Day timeframe\n",
    "    df['EMA18'] = ta.ema(df['Close'], length=18) \n",
    "\n",
    "    # Shows general direction of stock based on conviction behind each days move\n",
    "    # If prices are rising and the OBV is making higher peaks and higher troughs, the upward trend is likely to continue:\n",
    "    df['OBV'] = ta.obv(df['Close'], df['Volume'])\n",
    "\n",
    "    # Identifies Overbought/Oversold conditions like RSI but is volume weighted\n",
    "    # df['MFI'] = ta.mfi(df['High'], df['Low'], df['Close'], df['Volume'], length=14)\n",
    "\n",
    "    # detects whether more money is flowing in or out of a stock\n",
    "    # df['Accum/Dist'] = ta.ad(df['High'], df['Low'], df['Close'], df['Volume'])\n",
    "    df = df.dropna()\n",
    "    return df"
   ]
  },
  {
   "cell_type": "code",
   "execution_count": 26,
   "metadata": {},
   "outputs": [
    {
     "name": "stderr",
     "output_type": "stream",
     "text": [
      "[*********************100%***********************]  1 of 1 completed\n"
     ]
    }
   ],
   "source": [
    "df = get_indicator_data('AAPL')"
   ]
  },
  {
   "cell_type": "code",
   "execution_count": 30,
   "metadata": {},
   "outputs": [
    {
     "data": {
      "text/plain": [
       "(981, 9)"
      ]
     },
     "execution_count": 30,
     "metadata": {},
     "output_type": "execute_result"
    }
   ],
   "source": [
    "df.values.shape"
   ]
  }
 ],
 "metadata": {
  "kernelspec": {
   "display_name": "quantico",
   "language": "python",
   "name": "python3"
  },
  "language_info": {
   "codemirror_mode": {
    "name": "ipython",
    "version": 3
   },
   "file_extension": ".py",
   "mimetype": "text/x-python",
   "name": "python",
   "nbconvert_exporter": "python",
   "pygments_lexer": "ipython3",
   "version": "3.10.15"
  }
 },
 "nbformat": 4,
 "nbformat_minor": 2
}
