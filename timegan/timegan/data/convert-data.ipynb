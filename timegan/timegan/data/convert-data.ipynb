{
 "cells": [
  {
   "cell_type": "code",
   "execution_count": 197,
   "metadata": {},
   "outputs": [],
   "source": [
    "import pandas as pd\n",
    "import pickle\n",
    "import matplotlib.pyplot as plt"
   ]
  },
  {
   "cell_type": "code",
   "execution_count": 198,
   "metadata": {},
   "outputs": [],
   "source": [
    "pkl_file_path = \"../normalization_params.pkl\"\n",
    "with open(pkl_file_path, 'rb') as file:\n",
    "    normalization_params = pickle.load(file)\n",
    "    recovered_max_val = normalization_params[\"max_val\"]\n",
    "    recovered_min_val = normalization_params[\"min_val\"]"
   ]
  },
  {
   "cell_type": "code",
   "execution_count": 199,
   "metadata": {},
   "outputs": [],
   "source": [
    "google = pd.read_csv(\"GOOGLE_BIG_last_24.csv\")"
   ]
  },
  {
   "cell_type": "code",
   "execution_count": 200,
   "metadata": {},
   "outputs": [],
   "source": [
    "pred = pd.read_csv(\"forecast_output_1.csv\")"
   ]
  },
  {
   "cell_type": "code",
   "execution_count": 201,
   "metadata": {},
   "outputs": [
    {
     "data": {
      "text/html": [
       "<div>\n",
       "<style scoped>\n",
       "    .dataframe tbody tr th:only-of-type {\n",
       "        vertical-align: middle;\n",
       "    }\n",
       "\n",
       "    .dataframe tbody tr th {\n",
       "        vertical-align: top;\n",
       "    }\n",
       "\n",
       "    .dataframe thead th {\n",
       "        text-align: right;\n",
       "    }\n",
       "</style>\n",
       "<table border=\"1\" class=\"dataframe\">\n",
       "  <thead>\n",
       "    <tr style=\"text-align: right;\">\n",
       "      <th></th>\n",
       "      <th>Open</th>\n",
       "      <th>High</th>\n",
       "      <th>Low</th>\n",
       "      <th>Close</th>\n",
       "      <th>Adj Close</th>\n",
       "      <th>Volume</th>\n",
       "    </tr>\n",
       "  </thead>\n",
       "  <tbody>\n",
       "    <tr>\n",
       "      <th>0</th>\n",
       "      <td>1155.719971</td>\n",
       "      <td>1156.755005</td>\n",
       "      <td>1134.910034</td>\n",
       "      <td>1143.300049</td>\n",
       "      <td>1143.300049</td>\n",
       "      <td>1166100</td>\n",
       "    </tr>\n",
       "    <tr>\n",
       "      <th>1</th>\n",
       "      <td>1126.729980</td>\n",
       "      <td>1147.079956</td>\n",
       "      <td>1123.300049</td>\n",
       "      <td>1142.319946</td>\n",
       "      <td>1142.319946</td>\n",
       "      <td>1212400</td>\n",
       "    </tr>\n",
       "    <tr>\n",
       "      <th>2</th>\n",
       "      <td>1144.449951</td>\n",
       "      <td>1176.189941</td>\n",
       "      <td>1144.449951</td>\n",
       "      <td>1175.760010</td>\n",
       "      <td>1175.760010</td>\n",
       "      <td>1719200</td>\n",
       "    </tr>\n",
       "    <tr>\n",
       "      <th>3</th>\n",
       "      <td>1178.260010</td>\n",
       "      <td>1200.000000</td>\n",
       "      <td>1178.260010</td>\n",
       "      <td>1193.199951</td>\n",
       "      <td>1193.199951</td>\n",
       "      <td>2013100</td>\n",
       "    </tr>\n",
       "    <tr>\n",
       "      <th>4</th>\n",
       "      <td>1200.645020</td>\n",
       "      <td>1200.930054</td>\n",
       "      <td>1191.939941</td>\n",
       "      <td>1193.319946</td>\n",
       "      <td>1193.319946</td>\n",
       "      <td>1435900</td>\n",
       "    </tr>\n",
       "  </tbody>\n",
       "</table>\n",
       "</div>"
      ],
      "text/plain": [
       "          Open         High          Low        Close    Adj Close   Volume\n",
       "0  1155.719971  1156.755005  1134.910034  1143.300049  1143.300049  1166100\n",
       "1  1126.729980  1147.079956  1123.300049  1142.319946  1142.319946  1212400\n",
       "2  1144.449951  1176.189941  1144.449951  1175.760010  1175.760010  1719200\n",
       "3  1178.260010  1200.000000  1178.260010  1193.199951  1193.199951  2013100\n",
       "4  1200.645020  1200.930054  1191.939941  1193.319946  1193.319946  1435900"
      ]
     },
     "execution_count": 201,
     "metadata": {},
     "output_type": "execute_result"
    }
   ],
   "source": [
    "google.head()"
   ]
  },
  {
   "cell_type": "code",
   "execution_count": 202,
   "metadata": {},
   "outputs": [
    {
     "data": {
      "text/html": [
       "<div>\n",
       "<style scoped>\n",
       "    .dataframe tbody tr th:only-of-type {\n",
       "        vertical-align: middle;\n",
       "    }\n",
       "\n",
       "    .dataframe tbody tr th {\n",
       "        vertical-align: top;\n",
       "    }\n",
       "\n",
       "    .dataframe thead th {\n",
       "        text-align: right;\n",
       "    }\n",
       "</style>\n",
       "<table border=\"1\" class=\"dataframe\">\n",
       "  <thead>\n",
       "    <tr style=\"text-align: right;\">\n",
       "      <th></th>\n",
       "      <th>Open</th>\n",
       "      <th>High</th>\n",
       "      <th>Low</th>\n",
       "      <th>Close</th>\n",
       "      <th>Adj Close</th>\n",
       "      <th>Volume</th>\n",
       "    </tr>\n",
       "  </thead>\n",
       "  <tbody>\n",
       "    <tr>\n",
       "      <th>0</th>\n",
       "      <td>1132.966736</td>\n",
       "      <td>1152.334850</td>\n",
       "      <td>1128.544786</td>\n",
       "      <td>1147.856510</td>\n",
       "      <td>1147.764415</td>\n",
       "      <td>922893.385285</td>\n",
       "    </tr>\n",
       "    <tr>\n",
       "      <th>1</th>\n",
       "      <td>1149.154837</td>\n",
       "      <td>1164.410612</td>\n",
       "      <td>1141.340554</td>\n",
       "      <td>1159.399513</td>\n",
       "      <td>1158.954114</td>\n",
       "      <td>831138.754936</td>\n",
       "    </tr>\n",
       "    <tr>\n",
       "      <th>2</th>\n",
       "      <td>1160.559960</td>\n",
       "      <td>1173.986601</td>\n",
       "      <td>1153.578498</td>\n",
       "      <td>1172.121775</td>\n",
       "      <td>1171.533543</td>\n",
       "      <td>829581.517308</td>\n",
       "    </tr>\n",
       "    <tr>\n",
       "      <th>3</th>\n",
       "      <td>1169.325375</td>\n",
       "      <td>1181.446180</td>\n",
       "      <td>1162.272489</td>\n",
       "      <td>1180.123750</td>\n",
       "      <td>1180.231414</td>\n",
       "      <td>829488.892828</td>\n",
       "    </tr>\n",
       "    <tr>\n",
       "      <th>4</th>\n",
       "      <td>1182.216299</td>\n",
       "      <td>1191.382744</td>\n",
       "      <td>1173.875176</td>\n",
       "      <td>1189.100028</td>\n",
       "      <td>1191.165529</td>\n",
       "      <td>829685.525821</td>\n",
       "    </tr>\n",
       "  </tbody>\n",
       "</table>\n",
       "</div>"
      ],
      "text/plain": [
       "          Open         High          Low        Close    Adj Close  \\\n",
       "0  1132.966736  1152.334850  1128.544786  1147.856510  1147.764415   \n",
       "1  1149.154837  1164.410612  1141.340554  1159.399513  1158.954114   \n",
       "2  1160.559960  1173.986601  1153.578498  1172.121775  1171.533543   \n",
       "3  1169.325375  1181.446180  1162.272489  1180.123750  1180.231414   \n",
       "4  1182.216299  1191.382744  1173.875176  1189.100028  1191.165529   \n",
       "\n",
       "          Volume  \n",
       "0  922893.385285  \n",
       "1  831138.754936  \n",
       "2  829581.517308  \n",
       "3  829488.892828  \n",
       "4  829685.525821  "
      ]
     },
     "execution_count": 202,
     "metadata": {},
     "output_type": "execute_result"
    }
   ],
   "source": [
    "pred.head()"
   ]
  },
  {
   "cell_type": "code",
   "execution_count": 203,
   "metadata": {},
   "outputs": [],
   "source": [
    "# pred[\"Open\"] = pred[\"Open\"] * (recovered_max_val[0] - recovered_min_val[0]) + recovered_min_val[0]\n",
    "# forecast = forecast * (recovered_max_val - recovered_min_val) + recovered_min_val"
   ]
  },
  {
   "cell_type": "code",
   "execution_count": 204,
   "metadata": {},
   "outputs": [
    {
     "data": {
      "text/html": [
       "<div>\n",
       "<style scoped>\n",
       "    .dataframe tbody tr th:only-of-type {\n",
       "        vertical-align: middle;\n",
       "    }\n",
       "\n",
       "    .dataframe tbody tr th {\n",
       "        vertical-align: top;\n",
       "    }\n",
       "\n",
       "    .dataframe thead th {\n",
       "        text-align: right;\n",
       "    }\n",
       "</style>\n",
       "<table border=\"1\" class=\"dataframe\">\n",
       "  <thead>\n",
       "    <tr style=\"text-align: right;\">\n",
       "      <th></th>\n",
       "      <th>Open</th>\n",
       "      <th>High</th>\n",
       "      <th>Low</th>\n",
       "      <th>Close</th>\n",
       "      <th>Adj Close</th>\n",
       "      <th>Volume</th>\n",
       "    </tr>\n",
       "  </thead>\n",
       "  <tbody>\n",
       "    <tr>\n",
       "      <th>0</th>\n",
       "      <td>1132.966736</td>\n",
       "      <td>1152.334850</td>\n",
       "      <td>1128.544786</td>\n",
       "      <td>1147.856510</td>\n",
       "      <td>1147.764415</td>\n",
       "      <td>922893.385285</td>\n",
       "    </tr>\n",
       "    <tr>\n",
       "      <th>1</th>\n",
       "      <td>1149.154837</td>\n",
       "      <td>1164.410612</td>\n",
       "      <td>1141.340554</td>\n",
       "      <td>1159.399513</td>\n",
       "      <td>1158.954114</td>\n",
       "      <td>831138.754936</td>\n",
       "    </tr>\n",
       "    <tr>\n",
       "      <th>2</th>\n",
       "      <td>1160.559960</td>\n",
       "      <td>1173.986601</td>\n",
       "      <td>1153.578498</td>\n",
       "      <td>1172.121775</td>\n",
       "      <td>1171.533543</td>\n",
       "      <td>829581.517308</td>\n",
       "    </tr>\n",
       "    <tr>\n",
       "      <th>3</th>\n",
       "      <td>1169.325375</td>\n",
       "      <td>1181.446180</td>\n",
       "      <td>1162.272489</td>\n",
       "      <td>1180.123750</td>\n",
       "      <td>1180.231414</td>\n",
       "      <td>829488.892828</td>\n",
       "    </tr>\n",
       "    <tr>\n",
       "      <th>4</th>\n",
       "      <td>1182.216299</td>\n",
       "      <td>1191.382744</td>\n",
       "      <td>1173.875176</td>\n",
       "      <td>1189.100028</td>\n",
       "      <td>1191.165529</td>\n",
       "      <td>829685.525821</td>\n",
       "    </tr>\n",
       "  </tbody>\n",
       "</table>\n",
       "</div>"
      ],
      "text/plain": [
       "          Open         High          Low        Close    Adj Close  \\\n",
       "0  1132.966736  1152.334850  1128.544786  1147.856510  1147.764415   \n",
       "1  1149.154837  1164.410612  1141.340554  1159.399513  1158.954114   \n",
       "2  1160.559960  1173.986601  1153.578498  1172.121775  1171.533543   \n",
       "3  1169.325375  1181.446180  1162.272489  1180.123750  1180.231414   \n",
       "4  1182.216299  1191.382744  1173.875176  1189.100028  1191.165529   \n",
       "\n",
       "          Volume  \n",
       "0  922893.385285  \n",
       "1  831138.754936  \n",
       "2  829581.517308  \n",
       "3  829488.892828  \n",
       "4  829685.525821  "
      ]
     },
     "execution_count": 204,
     "metadata": {},
     "output_type": "execute_result"
    }
   ],
   "source": [
    "pred.head()"
   ]
  },
  {
   "cell_type": "code",
   "execution_count": 205,
   "metadata": {},
   "outputs": [
    {
     "name": "stderr",
     "output_type": "stream",
     "text": [
      "/var/folders/fz/6jqrkhfj6mj715w4gn4yjt080000gn/T/ipykernel_26330/1478051137.py:1: FutureWarning: Series.__getitem__ treating keys as positions is deprecated. In a future version, integer keys will always be treated as labels (consistent with DataFrame behavior). To access a value by position, use `ser.iloc[pos]`\n",
      "  off_by = google.iloc[0][0] - pred.iloc[0][0]\n"
     ]
    }
   ],
   "source": [
    "off_by = google.iloc[0][0] - pred.iloc[0][0]"
   ]
  },
  {
   "cell_type": "code",
   "execution_count": 206,
   "metadata": {},
   "outputs": [],
   "source": [
    "# pred[\"Open\"] += off_by"
   ]
  },
  {
   "cell_type": "code",
   "execution_count": 207,
   "metadata": {},
   "outputs": [
    {
     "data": {
      "image/png": "[encoded data removed]",
      "text/plain": [
       "<Figure size 640x480 with 1 Axes>"
      ]
     },
     "metadata": {},
     "output_type": "display_data"
    }
   ],
   "source": [
    "plt.plot(google.iloc[:, 0])  # Use .iloc to select the first column\n",
    "plt.title(\"First Column Plot\")\n",
    "plt.xlabel(\"Index\")\n",
    "plt.ylabel(\"Values\")\n",
    "plt.show()"
   ]
  },
  {
   "cell_type": "code",
   "execution_count": 208,
   "metadata": {},
   "outputs": [
    {
     "data": {
      "image/png": "[encoded data removed]",
      "text/plain": [
       "<Figure size 640x480 with 1 Axes>"
      ]
     },
     "metadata": {},
     "output_type": "display_data"
    }
   ],
   "source": [
    "plt.plot(pred.iloc[:, 0])  # Use .iloc to select the first column\n",
    "plt.title(\"First Column Plot\")\n",
    "plt.xlabel(\"Index\")\n",
    "plt.ylabel(\"Values\")\n",
    "plt.show()"
   ]
  },
  {
   "cell_type": "code",
   "execution_count": 209,
   "metadata": {},
   "outputs": [],
   "source": [
    "google_first_column = google.iloc[:, 0]\n",
    "pred_first_column = pred.iloc[:, 0]\n",
    "combined_max = max(google_first_column.max(), pred_first_column.max())\n",
    "combined_min = min(google_first_column.min(), pred_first_column.min())\n",
    "value_range = combined_max - combined_min\n",
    "\n",
    "# Compute the Mean Absolute Difference (MAD) and normalize it\n",
    "normalized_difference = (abs(google_first_column - pred_first_column).mean()) / value_range"
   ]
  },
  {
   "cell_type": "code",
   "execution_count": 210,
   "metadata": {},
   "outputs": [
    {
     "data": {
      "text/plain": [
       "0.1313154017216406"
      ]
     },
     "execution_count": 210,
     "metadata": {},
     "output_type": "execute_result"
    }
   ],
   "source": [
    "normalized_difference"
   ]
  },
  {
   "cell_type": "code",
   "execution_count": null,
   "metadata": {},
   "outputs": [],
   "source": []
  }
 ],
 "metadata": {
  "kernelspec": {
   "display_name": "my_new_env",
   "language": "python",
   "name": "python3"
  },
  "language_info": {
   "codemirror_mode": {
    "name": "ipython",
    "version": 3
   },
   "file_extension": ".py",
   "mimetype": "text/x-python",
   "name": "python",
   "nbconvert_exporter": "python",
   "pygments_lexer": "ipython3",
   "version": "3.10.16"
  }
 },
 "nbformat": 4,
 "nbformat_minor": 2
}
