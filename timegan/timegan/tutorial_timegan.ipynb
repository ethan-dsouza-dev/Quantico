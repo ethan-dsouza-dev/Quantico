{
 "cells": [
  {
   "cell_type": "markdown",
   "metadata": {},
   "source": [
    "# Tutorial TGAN\n",
    "\n",
    "## Time-series Generative Adversarial Networks"
   ]
  },
  {
   "cell_type": "markdown",
   "metadata": {},
   "source": [
    "This tutorial shows how to use TGAN to generate synthetic time-series data. We are using Google Stock and Sine dataset as examples."
   ]
  },
  {
   "cell_type": "markdown",
   "metadata": {},
   "source": [
    "Experiment Settings (Import necessary packages and functions)"
   ]
  },
  {
   "cell_type": "code",
   "execution_count": 1,
   "metadata": {},
   "outputs": [
    {
     "name": "stdout",
     "output_type": "stream",
     "text": [
      "WARNING:tensorflow:From /opt/homebrew/Caskroom/miniconda/base/envs/quantico/lib/python3.10/site-packages/tensorflow/python/compat/v2_compat.py:98: disable_resource_variables (from tensorflow.python.ops.resource_variables_toggle) is deprecated and will be removed in a future version.\n",
      "Instructions for updating:\n",
      "non-resource variables are not supported in the long term\n",
      "Finish importing necessary packages and functions\n"
     ]
    }
   ],
   "source": [
    "\n",
    "import numpy as np\n",
    "import sys\n",
    "\n",
    "#%% Functions\n",
    "# 1. Models\n",
    "from tgan import tgan\n",
    "\n",
    "# 2. Data Loading\n",
    "from data_loading import google_data_loading, sine_data_generation\n",
    "\n",
    "# 3. Metrics\n",
    "sys.path.append('metrics')\n",
    "from discriminative_score_metrics import discriminative_score_metrics\n",
    "from visualization_metrics import PCA_Analysis, tSNE_Analysis\n",
    "from predictive_score_metrics import predictive_score_metrics\n",
    "\n",
    "print('Finish importing necessary packages and functions')\n"
   ]
  },
  {
   "cell_type": "markdown",
   "metadata": {},
   "source": [
    "Set main parameters and datasets"
   ]
  },
  {
   "cell_type": "code",
   "execution_count": 2,
   "metadata": {},
   "outputs": [
    {
     "name": "stdout",
     "output_type": "stream",
     "text": [
      "google dataset is ready.\n"
     ]
    }
   ],
   "source": [
    "#%% Main Parameters\n",
    "# Data\n",
    "data_set = ['google','sine']\n",
    "data_name = data_set[0]\n",
    "\n",
    "# Experiments iterations\n",
    "Iteration = 2\n",
    "Sub_Iteration = 3\n",
    "\n",
    "#%% Data Loading\n",
    "seq_length = 24\n",
    "\n",
    "if data_name == 'google':\n",
    "    dataX = google_data_loading(seq_length)\n",
    "elif data_name == 'sine':\n",
    "    No = 10000\n",
    "    F_No = 5\n",
    "    dataX = sine_data_generation(No, seq_length, F_No)\n",
    "\n",
    "print(data_name + ' dataset is ready.')"
   ]
  },
  {
   "cell_type": "markdown",
   "metadata": {},
   "source": [
    "Set network parameters & Output initialization"
   ]
  },
  {
   "cell_type": "code",
   "execution_count": 3,
   "metadata": {},
   "outputs": [
    {
     "name": "stdout",
     "output_type": "stream",
     "text": [
      "Parameters are {'hidden_dim': 24, 'num_layers': 3, 'iterations': 10000, 'batch_size': 128, 'module_name': 'gru', 'z_dim': 6}\n"
     ]
    }
   ],
   "source": [
    "\n",
    "#%% Newtork Parameters\n",
    "parameters = dict()\n",
    "\n",
    "parameters['hidden_dim'] = len(dataX[0][0,:]) * 4\n",
    "parameters['num_layers'] = 3\n",
    "parameters['iterations'] = 10000\n",
    "parameters['batch_size'] = 128\n",
    "parameters['module_name'] = 'gru'   # Other options: 'lstm' or 'lstmLN'\n",
    "parameters['z_dim'] = len(dataX[0][0,:]) \n",
    "\n",
    "print('Parameters are ' + str(parameters))\n",
    "\n",
    "#%% Experiments\n",
    "# Output Initialization\n",
    "Discriminative_Score = list()\n",
    "Predictive_Score = list()"
   ]
  },
  {
   "cell_type": "markdown",
   "metadata": {},
   "source": [
    "Run TGAN & Evaluate discriminative and predictive scores"
   ]
  },
  {
   "cell_type": "code",
   "execution_count": 4,
   "metadata": {},
   "outputs": [
    {
     "name": "stdout",
     "output_type": "stream",
     "text": [
      "Start iterations\n"
     ]
    },
    {
     "ename": "AttributeError",
     "evalue": "`MultiRNNCell` is not available with Keras 3.",
     "output_type": "error",
     "traceback": [
      "\u001b[0;31m---------------------------------------------------------------------------\u001b[0m",
      "\u001b[0;31mAttributeError\u001b[0m                            Traceback (most recent call last)",
      "Cell \u001b[0;32mIn[4], line 8\u001b[0m\n\u001b[1;32m      3\u001b[0m \u001b[38;5;66;03m# Each Iteration\u001b[39;00m\n\u001b[1;32m      4\u001b[0m \u001b[38;5;28;01mfor\u001b[39;00m it \u001b[38;5;129;01min\u001b[39;00m \u001b[38;5;28mrange\u001b[39m(Iteration):\n\u001b[1;32m      5\u001b[0m \n\u001b[1;32m      6\u001b[0m     \n\u001b[1;32m      7\u001b[0m     \u001b[38;5;66;03m# Synthetic Data Generation\u001b[39;00m\n\u001b[0;32m----> 8\u001b[0m     dataX_hat \u001b[38;5;241m=\u001b[39m \u001b[43mtgan\u001b[49m\u001b[43m(\u001b[49m\u001b[43mdataX\u001b[49m\u001b[43m,\u001b[49m\u001b[43m \u001b[49m\u001b[43mparameters\u001b[49m\u001b[43m)\u001b[49m   \n\u001b[1;32m     10\u001b[0m     \u001b[38;5;28mprint\u001b[39m(\u001b[38;5;124m'\u001b[39m\u001b[38;5;124mFinish Synthetic Data Generation\u001b[39m\u001b[38;5;124m'\u001b[39m)\n\u001b[1;32m     12\u001b[0m     \u001b[38;5;66;03m#%% Performance Metrics\u001b[39;00m\n\u001b[1;32m     13\u001b[0m     \n\u001b[1;32m     14\u001b[0m     \u001b[38;5;66;03m# 1. Discriminative Score\u001b[39;00m\n",
      "File \u001b[0;32m~/personal/programs/Quantico/timegan/mlforhealthlabpub/alg/timegan/tgan.py:188\u001b[0m, in \u001b[0;36mtgan\u001b[0;34m(dataX, parameters)\u001b[0m\n\u001b[1;32m    183\u001b[0m     \u001b[38;5;28;01mreturn\u001b[39;00m Z_mb\n\u001b[1;32m    185\u001b[0m \u001b[38;5;66;03m#%% Functions\u001b[39;00m\n\u001b[1;32m    186\u001b[0m \n\u001b[1;32m    187\u001b[0m \u001b[38;5;66;03m# Embedder Networks\u001b[39;00m\n\u001b[0;32m--> 188\u001b[0m H \u001b[38;5;241m=\u001b[39m \u001b[43membedder\u001b[49m\u001b[43m(\u001b[49m\u001b[43mX\u001b[49m\u001b[43m,\u001b[49m\u001b[43m \u001b[49m\u001b[43mT\u001b[49m\u001b[43m)\u001b[49m\n\u001b[1;32m    189\u001b[0m X_tilde \u001b[38;5;241m=\u001b[39m recovery(H, T)\n\u001b[1;32m    191\u001b[0m \u001b[38;5;66;03m# Generator\u001b[39;00m\n",
      "File \u001b[0;32m~/personal/programs/Quantico/timegan/mlforhealthlabpub/alg/timegan/tgan.py:101\u001b[0m, in \u001b[0;36mtgan.<locals>.embedder\u001b[0;34m(X, T)\u001b[0m\n\u001b[1;32m     97\u001b[0m \u001b[38;5;28;01mdef\u001b[39;00m \u001b[38;5;21membedder\u001b[39m (X, T):      \n\u001b[1;32m     99\u001b[0m     \u001b[38;5;28;01mwith\u001b[39;00m tf\u001b[38;5;241m.\u001b[39mvariable_scope(\u001b[38;5;124m\"\u001b[39m\u001b[38;5;124membedder\u001b[39m\u001b[38;5;124m\"\u001b[39m, reuse \u001b[38;5;241m=\u001b[39m tf\u001b[38;5;241m.\u001b[39mAUTO_REUSE):\n\u001b[0;32m--> 101\u001b[0m         e_cell \u001b[38;5;241m=\u001b[39m \u001b[43mtf\u001b[49m\u001b[38;5;241;43m.\u001b[39;49m\u001b[43mnn\u001b[49m\u001b[38;5;241;43m.\u001b[39;49m\u001b[43mrnn_cell\u001b[49m\u001b[38;5;241;43m.\u001b[39;49m\u001b[43mMultiRNNCell\u001b[49m([rnn_cell(module_name) \u001b[38;5;28;01mfor\u001b[39;00m _ \u001b[38;5;129;01min\u001b[39;00m \u001b[38;5;28mrange\u001b[39m(num_layers)])\n\u001b[1;32m    103\u001b[0m         e_outputs, e_last_states \u001b[38;5;241m=\u001b[39m tf\u001b[38;5;241m.\u001b[39mnn\u001b[38;5;241m.\u001b[39mdynamic_rnn(e_cell, X, dtype\u001b[38;5;241m=\u001b[39mtf\u001b[38;5;241m.\u001b[39mfloat32, sequence_length \u001b[38;5;241m=\u001b[39m T)\n\u001b[1;32m    105\u001b[0m         H \u001b[38;5;241m=\u001b[39m tf\u001b[38;5;241m.\u001b[39mcontrib\u001b[38;5;241m.\u001b[39mlayers\u001b[38;5;241m.\u001b[39mfully_connected(e_outputs, hidden_dim, activation_fn\u001b[38;5;241m=\u001b[39mtf\u001b[38;5;241m.\u001b[39mnn\u001b[38;5;241m.\u001b[39msigmoid)     \n",
      "File \u001b[0;32m/opt/homebrew/Caskroom/miniconda/base/envs/quantico/lib/python3.10/site-packages/tensorflow/python/util/lazy_loader.py:207\u001b[0m, in \u001b[0;36mKerasLazyLoader.__getattr__\u001b[0;34m(self, item)\u001b[0m\n\u001b[1;32m    200\u001b[0m     \u001b[38;5;28;01mraise\u001b[39;00m \u001b[38;5;167;01mAttributeError\u001b[39;00m(\n\u001b[1;32m    201\u001b[0m         \u001b[38;5;124m\"\u001b[39m\u001b[38;5;124m`tf.compat.v2.keras` is not available with Keras 3. Just use \u001b[39m\u001b[38;5;124m\"\u001b[39m\n\u001b[1;32m    202\u001b[0m         \u001b[38;5;124m\"\u001b[39m\u001b[38;5;124m`import keras` instead.\u001b[39m\u001b[38;5;124m\"\u001b[39m\n\u001b[1;32m    203\u001b[0m     )\n\u001b[1;32m    204\u001b[0m   \u001b[38;5;28;01melif\u001b[39;00m \u001b[38;5;28mself\u001b[39m\u001b[38;5;241m.\u001b[39m_tfll_submodule \u001b[38;5;129;01mand\u001b[39;00m \u001b[38;5;28mself\u001b[39m\u001b[38;5;241m.\u001b[39m_tfll_submodule\u001b[38;5;241m.\u001b[39mstartswith(\n\u001b[1;32m    205\u001b[0m       \u001b[38;5;124m\"\u001b[39m\u001b[38;5;124m__internal__.legacy.\u001b[39m\u001b[38;5;124m\"\u001b[39m\n\u001b[1;32m    206\u001b[0m   ):\n\u001b[0;32m--> 207\u001b[0m     \u001b[38;5;28;01mraise\u001b[39;00m \u001b[38;5;167;01mAttributeError\u001b[39;00m(\n\u001b[1;32m    208\u001b[0m         \u001b[38;5;124mf\u001b[39m\u001b[38;5;124m\"\u001b[39m\u001b[38;5;124m`\u001b[39m\u001b[38;5;132;01m{\u001b[39;00mitem\u001b[38;5;132;01m}\u001b[39;00m\u001b[38;5;124m` is not available with Keras 3.\u001b[39m\u001b[38;5;124m\"\u001b[39m\n\u001b[1;32m    209\u001b[0m     )\n\u001b[1;32m    210\u001b[0m module \u001b[38;5;241m=\u001b[39m \u001b[38;5;28mself\u001b[39m\u001b[38;5;241m.\u001b[39m_load()\n\u001b[1;32m    211\u001b[0m \u001b[38;5;28;01mreturn\u001b[39;00m \u001b[38;5;28mgetattr\u001b[39m(module, item)\n",
      "\u001b[0;31mAttributeError\u001b[0m: `MultiRNNCell` is not available with Keras 3."
     ]
    }
   ],
   "source": [
    "\n",
    "print('Start iterations') \n",
    "    \n",
    "# Each Iteration\n",
    "for it in range(Iteration):\n",
    "\n",
    "    \n",
    "    # Synthetic Data Generation\n",
    "    dataX_hat = tgan(dataX, parameters)   \n",
    "      \n",
    "    print('Finish Synthetic Data Generation')\n",
    "\n",
    "    #%% Performance Metrics\n",
    "    \n",
    "    # 1. Discriminative Score\n",
    "    Acc = list()\n",
    "    for tt in range(Sub_Iteration):\n",
    "        Temp_Disc = discriminative_score_metrics (dataX, dataX_hat)\n",
    "        Acc.append(Temp_Disc)\n",
    "    \n",
    "    Discriminative_Score.append(np.mean(Acc))\n",
    "    \n",
    "    # 2. Predictive Performance\n",
    "    MAE_All = list()\n",
    "    for tt in range(Sub_Iteration):\n",
    "        MAE_All.append(predictive_score_metrics (dataX, dataX_hat))\n",
    "        \n",
    "    Predictive_Score.append(np.mean(MAE_All))    \n",
    "    \n",
    "print('Finish TGAN iterations')"
   ]
  },
  {
   "cell_type": "markdown",
   "metadata": {},
   "source": [
    "Visualization (PCA Analysis)"
   ]
  },
  {
   "cell_type": "code",
   "execution_count": null,
   "metadata": {},
   "outputs": [],
   "source": [
    "PCA_Analysis (dataX, dataX_hat)"
   ]
  },
  {
   "cell_type": "markdown",
   "metadata": {},
   "source": [
    "Visualization (t-SNE Analysis)"
   ]
  },
  {
   "cell_type": "code",
   "execution_count": null,
   "metadata": {},
   "outputs": [],
   "source": [
    "tSNE_Analysis (dataX, dataX_hat)"
   ]
  },
  {
   "cell_type": "markdown",
   "metadata": {},
   "source": [
    "Print Discriminative and Predictive Scores"
   ]
  },
  {
   "cell_type": "code",
   "execution_count": null,
   "metadata": {},
   "outputs": [],
   "source": [
    "# Print Results\n",
    "print('Discriminative Score - Mean: ' + str(np.round(np.mean(Discriminative_Score),4)) + ', Std: ' + str(np.round(np.std(Discriminative_Score),4)))\n",
    "print('Predictive Score - Mean: ' + str(np.round(np.mean(Predictive_Score),4)) + ', Std: ' + str(np.round(np.std(Predictive_Score),4)))\n"
   ]
  }
 ],
 "metadata": {
  "kernelspec": {
   "display_name": "quantico",
   "language": "python",
   "name": "python3"
  },
  "language_info": {
   "codemirror_mode": {
    "name": "ipython",
    "version": 3
   },
   "file_extension": ".py",
   "mimetype": "text/x-python",
   "name": "python",
   "nbconvert_exporter": "python",
   "pygments_lexer": "ipython3",
   "version": "3.10.15"
  }
 },
 "nbformat": 4,
 "nbformat_minor": 2
}
