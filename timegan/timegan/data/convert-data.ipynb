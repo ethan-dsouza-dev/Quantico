{
 "cells": [
  {
   "cell_type": "code",
   "execution_count": 265,
   "metadata": {},
   "outputs": [],
   "source": [
    "import pandas as pd\n",
    "import pickle\n",
    "import matplotlib.pyplot as plt"
   ]
  },
  {
   "cell_type": "code",
   "execution_count": 266,
   "metadata": {},
   "outputs": [],
   "source": [
    "google = pd.read_csv(\"GOOGLE_BIG_last_24.csv\")\n",
    "apple = pd.read_csv(\"AAPL_last_24.csv\")"
   ]
  },
  {
   "cell_type": "code",
   "execution_count": 267,
   "metadata": {},
   "outputs": [],
   "source": [
    "pred = pd.read_csv(\"forecast_output_0_AAPL.csv\")"
   ]
  },
  {
   "cell_type": "code",
   "execution_count": 268,
   "metadata": {},
   "outputs": [
    {
     "data": {
      "text/html": [
       "<div>\n",
       "<style scoped>\n",
       "    .dataframe tbody tr th:only-of-type {\n",
       "        vertical-align: middle;\n",
       "    }\n",
       "\n",
       "    .dataframe tbody tr th {\n",
       "        vertical-align: top;\n",
       "    }\n",
       "\n",
       "    .dataframe thead th {\n",
       "        text-align: right;\n",
       "    }\n",
       "</style>\n",
       "<table border=\"1\" class=\"dataframe\">\n",
       "  <thead>\n",
       "    <tr style=\"text-align: right;\">\n",
       "      <th></th>\n",
       "      <th>Open</th>\n",
       "      <th>High</th>\n",
       "      <th>Low</th>\n",
       "      <th>Close</th>\n",
       "      <th>Adj Close</th>\n",
       "      <th>Volume</th>\n",
       "    </tr>\n",
       "  </thead>\n",
       "  <tbody>\n",
       "    <tr>\n",
       "      <th>0</th>\n",
       "      <td>189.919998</td>\n",
       "      <td>190.669998</td>\n",
       "      <td>188.899994</td>\n",
       "      <td>189.789993</td>\n",
       "      <td>188.864731</td>\n",
       "      <td>40552600</td>\n",
       "    </tr>\n",
       "    <tr>\n",
       "      <th>1</th>\n",
       "      <td>189.779999</td>\n",
       "      <td>191.080002</td>\n",
       "      <td>189.399994</td>\n",
       "      <td>190.399994</td>\n",
       "      <td>189.471756</td>\n",
       "      <td>38415400</td>\n",
       "    </tr>\n",
       "    <tr>\n",
       "      <th>2</th>\n",
       "      <td>190.899994</td>\n",
       "      <td>192.089996</td>\n",
       "      <td>188.970001</td>\n",
       "      <td>189.369995</td>\n",
       "      <td>188.446793</td>\n",
       "      <td>43014200</td>\n",
       "    </tr>\n",
       "    <tr>\n",
       "      <th>3</th>\n",
       "      <td>189.839996</td>\n",
       "      <td>190.320007</td>\n",
       "      <td>188.190002</td>\n",
       "      <td>189.949997</td>\n",
       "      <td>189.023956</td>\n",
       "      <td>48794400</td>\n",
       "    </tr>\n",
       "    <tr>\n",
       "      <th>4</th>\n",
       "      <td>190.330002</td>\n",
       "      <td>191.559998</td>\n",
       "      <td>189.229996</td>\n",
       "      <td>191.240005</td>\n",
       "      <td>190.307678</td>\n",
       "      <td>45679300</td>\n",
       "    </tr>\n",
       "  </tbody>\n",
       "</table>\n",
       "</div>"
      ],
      "text/plain": [
       "         Open        High         Low       Close   Adj Close    Volume\n",
       "0  189.919998  190.669998  188.899994  189.789993  188.864731  40552600\n",
       "1  189.779999  191.080002  189.399994  190.399994  189.471756  38415400\n",
       "2  190.899994  192.089996  188.970001  189.369995  188.446793  43014200\n",
       "3  189.839996  190.320007  188.190002  189.949997  189.023956  48794400\n",
       "4  190.330002  191.559998  189.229996  191.240005  190.307678  45679300"
      ]
     },
     "execution_count": 268,
     "metadata": {},
     "output_type": "execute_result"
    }
   ],
   "source": [
    "apple.head()"
   ]
  },
  {
   "cell_type": "code",
   "execution_count": 269,
   "metadata": {},
   "outputs": [
    {
     "data": {
      "text/html": [
       "<div>\n",
       "<style scoped>\n",
       "    .dataframe tbody tr th:only-of-type {\n",
       "        vertical-align: middle;\n",
       "    }\n",
       "\n",
       "    .dataframe tbody tr th {\n",
       "        vertical-align: top;\n",
       "    }\n",
       "\n",
       "    .dataframe thead th {\n",
       "        text-align: right;\n",
       "    }\n",
       "</style>\n",
       "<table border=\"1\" class=\"dataframe\">\n",
       "  <thead>\n",
       "    <tr style=\"text-align: right;\">\n",
       "      <th></th>\n",
       "      <th>Open</th>\n",
       "      <th>High</th>\n",
       "      <th>Low</th>\n",
       "      <th>Close</th>\n",
       "      <th>Adj Close</th>\n",
       "      <th>Volume</th>\n",
       "    </tr>\n",
       "  </thead>\n",
       "  <tbody>\n",
       "    <tr>\n",
       "      <th>0</th>\n",
       "      <td>0.007887</td>\n",
       "      <td>0.007292</td>\n",
       "      <td>0.006915</td>\n",
       "      <td>0.008480</td>\n",
       "      <td>0.009029</td>\n",
       "      <td>0.015395</td>\n",
       "    </tr>\n",
       "    <tr>\n",
       "      <th>1</th>\n",
       "      <td>0.004875</td>\n",
       "      <td>0.004762</td>\n",
       "      <td>0.005658</td>\n",
       "      <td>0.005550</td>\n",
       "      <td>0.005694</td>\n",
       "      <td>0.026988</td>\n",
       "    </tr>\n",
       "    <tr>\n",
       "      <th>2</th>\n",
       "      <td>0.012202</td>\n",
       "      <td>0.014648</td>\n",
       "      <td>0.017392</td>\n",
       "      <td>0.014926</td>\n",
       "      <td>0.017062</td>\n",
       "      <td>0.021993</td>\n",
       "    </tr>\n",
       "    <tr>\n",
       "      <th>3</th>\n",
       "      <td>0.036075</td>\n",
       "      <td>0.044332</td>\n",
       "      <td>0.050931</td>\n",
       "      <td>0.045007</td>\n",
       "      <td>0.053031</td>\n",
       "      <td>0.030527</td>\n",
       "    </tr>\n",
       "    <tr>\n",
       "      <th>4</th>\n",
       "      <td>0.063575</td>\n",
       "      <td>0.075955</td>\n",
       "      <td>0.082896</td>\n",
       "      <td>0.077958</td>\n",
       "      <td>0.084802</td>\n",
       "      <td>0.033112</td>\n",
       "    </tr>\n",
       "  </tbody>\n",
       "</table>\n",
       "</div>"
      ],
      "text/plain": [
       "       Open      High       Low     Close  Adj Close    Volume\n",
       "0  0.007887  0.007292  0.006915  0.008480   0.009029  0.015395\n",
       "1  0.004875  0.004762  0.005658  0.005550   0.005694  0.026988\n",
       "2  0.012202  0.014648  0.017392  0.014926   0.017062  0.021993\n",
       "3  0.036075  0.044332  0.050931  0.045007   0.053031  0.030527\n",
       "4  0.063575  0.075955  0.082896  0.077958   0.084802  0.033112"
      ]
     },
     "execution_count": 269,
     "metadata": {},
     "output_type": "execute_result"
    }
   ],
   "source": [
    "pred.head()"
   ]
  },
  {
   "cell_type": "code",
   "execution_count": 270,
   "metadata": {},
   "outputs": [],
   "source": [
    "max_val, min_val = apple['Open'].tail(24).max(), apple['Open'].tail(24).min()\n",
    "pred[\"Open\"] = pred[\"Open\"] * (max_val - min_val) + min_val"
   ]
  },
  {
   "cell_type": "code",
   "execution_count": 271,
   "metadata": {},
   "outputs": [
    {
     "data": {
      "text/html": [
       "<div>\n",
       "<style scoped>\n",
       "    .dataframe tbody tr th:only-of-type {\n",
       "        vertical-align: middle;\n",
       "    }\n",
       "\n",
       "    .dataframe tbody tr th {\n",
       "        vertical-align: top;\n",
       "    }\n",
       "\n",
       "    .dataframe thead th {\n",
       "        text-align: right;\n",
       "    }\n",
       "</style>\n",
       "<table border=\"1\" class=\"dataframe\">\n",
       "  <thead>\n",
       "    <tr style=\"text-align: right;\">\n",
       "      <th></th>\n",
       "      <th>Open</th>\n",
       "      <th>High</th>\n",
       "      <th>Low</th>\n",
       "      <th>Close</th>\n",
       "      <th>Adj Close</th>\n",
       "      <th>Volume</th>\n",
       "    </tr>\n",
       "  </thead>\n",
       "  <tbody>\n",
       "    <tr>\n",
       "      <th>0</th>\n",
       "      <td>189.844987</td>\n",
       "      <td>0.007292</td>\n",
       "      <td>0.006915</td>\n",
       "      <td>0.008480</td>\n",
       "      <td>0.009029</td>\n",
       "      <td>0.015395</td>\n",
       "    </tr>\n",
       "    <tr>\n",
       "      <th>1</th>\n",
       "      <td>189.820169</td>\n",
       "      <td>0.004762</td>\n",
       "      <td>0.005658</td>\n",
       "      <td>0.005550</td>\n",
       "      <td>0.005694</td>\n",
       "      <td>0.026988</td>\n",
       "    </tr>\n",
       "    <tr>\n",
       "      <th>2</th>\n",
       "      <td>189.880543</td>\n",
       "      <td>0.014648</td>\n",
       "      <td>0.017392</td>\n",
       "      <td>0.014926</td>\n",
       "      <td>0.017062</td>\n",
       "      <td>0.021993</td>\n",
       "    </tr>\n",
       "    <tr>\n",
       "      <th>3</th>\n",
       "      <td>190.077257</td>\n",
       "      <td>0.044332</td>\n",
       "      <td>0.050931</td>\n",
       "      <td>0.045007</td>\n",
       "      <td>0.053031</td>\n",
       "      <td>0.030527</td>\n",
       "    </tr>\n",
       "    <tr>\n",
       "      <th>4</th>\n",
       "      <td>190.303855</td>\n",
       "      <td>0.075955</td>\n",
       "      <td>0.082896</td>\n",
       "      <td>0.077958</td>\n",
       "      <td>0.084802</td>\n",
       "      <td>0.033112</td>\n",
       "    </tr>\n",
       "  </tbody>\n",
       "</table>\n",
       "</div>"
      ],
      "text/plain": [
       "         Open      High       Low     Close  Adj Close    Volume\n",
       "0  189.844987  0.007292  0.006915  0.008480   0.009029  0.015395\n",
       "1  189.820169  0.004762  0.005658  0.005550   0.005694  0.026988\n",
       "2  189.880543  0.014648  0.017392  0.014926   0.017062  0.021993\n",
       "3  190.077257  0.044332  0.050931  0.045007   0.053031  0.030527\n",
       "4  190.303855  0.075955  0.082896  0.077958   0.084802  0.033112"
      ]
     },
     "execution_count": 271,
     "metadata": {},
     "output_type": "execute_result"
    }
   ],
   "source": [
    "pred.head()"
   ]
  },
  {
   "cell_type": "code",
   "execution_count": 272,
   "metadata": {},
   "outputs": [
    {
     "name": "stderr",
     "output_type": "stream",
     "text": [
      "/var/folders/fz/6jqrkhfj6mj715w4gn4yjt080000gn/T/ipykernel_34735/3567449903.py:1: FutureWarning: Series.__getitem__ treating keys as positions is deprecated. In a future version, integer keys will always be treated as labels (consistent with DataFrame behavior). To access a value by position, use `ser.iloc[pos]`\n",
      "  off_by = apple.iloc[0][0] - pred.iloc[0][0]\n"
     ]
    }
   ],
   "source": [
    "off_by = apple.iloc[0][0] - pred.iloc[0][0]"
   ]
  },
  {
   "cell_type": "code",
   "execution_count": 273,
   "metadata": {},
   "outputs": [],
   "source": [
    "pred[\"Open\"] += off_by"
   ]
  },
  {
   "cell_type": "code",
   "execution_count": 274,
   "metadata": {},
   "outputs": [
    {
     "data": {
      "image/png": "[encoded data removed]",
      "text/plain": [
       "<Figure size 640x480 with 1 Axes>"
      ]
     },
     "metadata": {},
     "output_type": "display_data"
    }
   ],
   "source": [
    "plt.plot(apple.iloc[:, 0])  # Use .iloc to select the first column\n",
    "plt.plot(pred.iloc[:, 0])  # Use .iloc to select the first column\n",
    "plt.title(\"First Column Plot\")\n",
    "plt.xlabel(\"Index\")\n",
    "plt.ylabel(\"Values\")\n",
    "plt.show()"
   ]
  },
  {
   "cell_type": "code",
   "execution_count": 275,
   "metadata": {},
   "outputs": [],
   "source": [
    "google_first_column = google.iloc[:, 0]\n",
    "apple_first_column = apple.iloc[:, 0]\n",
    "pred_first_column = pred.iloc[:, 0]\n",
    "combined_max = max(apple_first_column.max(), pred_first_column.max())\n",
    "combined_min = min(apple_first_column.min(), pred_first_column.min())\n",
    "value_range = combined_max - combined_min\n",
    "\n",
    "# Compute the Mean Absolute Difference (MAD) and normalize it\n",
    "normalized_difference = (abs(apple_first_column - pred_first_column).mean()) / value_range"
   ]
  },
  {
   "cell_type": "code",
   "execution_count": 276,
   "metadata": {},
   "outputs": [
    {
     "data": {
      "text/plain": [
       "0.3599330499341009"
      ]
     },
     "execution_count": 276,
     "metadata": {},
     "output_type": "execute_result"
    }
   ],
   "source": [
    "normalized_difference"
   ]
  },
  {
   "cell_type": "code",
   "execution_count": 279,
   "metadata": {},
   "outputs": [],
   "source": [
    "apple = pd.read_csv(\"NVDA_data.csv\")\n",
    "headers = [\"Open\", \"High\", \"Low\", \"Close\", \"Adj Close\", \"Volume\"]\n",
    "apple = apple[headers]\n",
    "apple.to_csv(\"NVDA_data.csv\", index=False)"
   ]
  },
  {
   "cell_type": "code",
   "execution_count": 280,
   "metadata": {},
   "outputs": [],
   "source": [
    "last_24 = apple.tail(24)\n",
    "\n",
    "# 3. Remove the last 24 rows from the original DataFrame\n",
    "apple = apple.iloc[:-24]\n",
    "\n",
    "# 4. Save the last 24 rows to a separate CSV file\n",
    "last_24.to_csv('NVDA_last_24.csv', index=False)\n",
    "\n",
    "# 5. Overwrite the original CSV with the updated DataFrame\n",
    "apple.to_csv('NVDA_data.csv', index=False)"
   ]
  },
  {
   "cell_type": "code",
   "execution_count": null,
   "metadata": {},
   "outputs": [],
   "source": []
  }
 ],
 "metadata": {
  "kernelspec": {
   "display_name": "my_new_env",
   "language": "python",
   "name": "python3"
  },
  "language_info": {
   "codemirror_mode": {
    "name": "ipython",
    "version": 3
   },
   "file_extension": ".py",
   "mimetype": "text/x-python",
   "name": "python",
   "nbconvert_exporter": "python",
   "pygments_lexer": "ipython3",
   "version": "3.10.16"
  }
 },
 "nbformat": 4,
 "nbformat_minor": 2
}
